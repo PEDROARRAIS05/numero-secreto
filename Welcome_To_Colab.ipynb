{
  "cells": [
    {
      "cell_type": "markdown",
      "metadata": {
        "id": "view-in-github",
        "colab_type": "text"
      },
      "source": [
        "<a href=\"https://colab.research.google.com/github/PEDROARRAIS05/numero-secreto/blob/main/Welcome_To_Colab.ipynb\" target=\"_parent\"><img src=\"https://colab.research.google.com/assets/colab-badge.svg\" alt=\"Open In Colab\"/></a>"
      ]
    },
    {
      "cell_type": "code",
      "source": [
        "numeros = list(range(1,11))\n",
        "numeros_pares = [num for num in numeros if num % 2 == 0]\n",
        "print('Lista de Números pares:', numeros_pares)"
      ],
      "metadata": {
        "colab": {
          "base_uri": "https://localhost:8080/"
        },
        "id": "u7difUgxeUzh",
        "outputId": "34c2da3d-6d0b-437a-8937-9e3f7e8c2904"
      },
      "execution_count": 13,
      "outputs": [
        {
          "output_type": "stream",
          "name": "stdout",
          "text": [
            "Lista de Números pares: [2, 4, 6, 8, 10]\n"
          ]
        }
      ]
    },
    {
      "cell_type": "code",
      "source": [
        "numeros = list(range(1,11))\n",
        "numeros.append(11)\n",
        "numeros.append(12)\n",
        "numeros.append(13)\n",
        "numeros.remove(5)\n",
        "print('Lista de Números:', numeros)\n"
      ],
      "metadata": {
        "colab": {
          "base_uri": "https://localhost:8080/"
        },
        "id": "eDnLgAUwjDrH",
        "outputId": "c9b2ca35-9e01-4e71-e830-4906769baa95"
      },
      "execution_count": 15,
      "outputs": [
        {
          "output_type": "stream",
          "name": "stdout",
          "text": [
            "Lista de Números: [1, 2, 3, 4, 6, 7, 8, 9, 10, 11, 12, 13]\n"
          ]
        }
      ]
    },
    {
      "cell_type": "markdown",
      "source": [],
      "metadata": {
        "id": "C1Tdj_qefHIY"
      }
    },
    {
      "cell_type": "code",
      "source": [
        "numeros.reverse()\n",
        "print(numeros)"
      ],
      "metadata": {
        "colab": {
          "base_uri": "https://localhost:8080/"
        },
        "id": "QkMxfNYVkNMF",
        "outputId": "b5404a21-a41f-426e-e3d3-80a02f34e63c"
      },
      "execution_count": 16,
      "outputs": [
        {
          "output_type": "stream",
          "name": "stdout",
          "text": [
            "[13, 12, 11, 10, 9, 8, 7, 6, 4, 3, 2, 1]\n"
          ]
        }
      ]
    },
    {
      "cell_type": "code",
      "source": [
        "dados = (10, 20, 30, 40, 50)\n",
        "print(dados)"
      ],
      "metadata": {
        "colab": {
          "base_uri": "https://localhost:8080/"
        },
        "id": "fqLEwW09knAZ",
        "outputId": "e6d5d860-7049-477a-bcb9-2068a3900aa8"
      },
      "execution_count": 17,
      "outputs": [
        {
          "output_type": "stream",
          "name": "stdout",
          "text": [
            "(10, 20, 30, 40, 50)\n"
          ]
        }
      ]
    },
    {
      "cell_type": "code",
      "source": [
        "print(dados[3])"
      ],
      "metadata": {
        "colab": {
          "base_uri": "https://localhost:8080/"
        },
        "id": "YWUx178Lk8Cc",
        "outputId": "2c9ad482-b332-415a-9912-8eadb9695288"
      },
      "execution_count": 18,
      "outputs": [
        {
          "output_type": "stream",
          "name": "stdout",
          "text": [
            "40\n"
          ]
        }
      ]
    },
    {
      "cell_type": "code",
      "source": [
        "dados[1] = 43\n",
        "#Deu erro, pois as tuplas são estruturas de dados imutáveis,logo não podem ser modificadas depois da criação#"
      ],
      "metadata": {
        "colab": {
          "base_uri": "https://localhost:8080/",
          "height": 141
        },
        "id": "NTttyK4aluPa",
        "outputId": "95b3fb09-7b67-467c-ff80-67354d28da9d"
      },
      "execution_count": 19,
      "outputs": [
        {
          "output_type": "error",
          "ename": "TypeError",
          "evalue": "'tuple' object does not support item assignment",
          "traceback": [
            "\u001b[0;31m---------------------------------------------------------------------------\u001b[0m",
            "\u001b[0;31mTypeError\u001b[0m                                 Traceback (most recent call last)",
            "\u001b[0;32m<ipython-input-19-4e7fcf250474>\u001b[0m in \u001b[0;36m<cell line: 0>\u001b[0;34m()\u001b[0m\n\u001b[0;32m----> 1\u001b[0;31m \u001b[0mdados\u001b[0m\u001b[0;34m[\u001b[0m\u001b[0;36m1\u001b[0m\u001b[0;34m]\u001b[0m \u001b[0;34m=\u001b[0m \u001b[0;36m43\u001b[0m\u001b[0;34m\u001b[0m\u001b[0;34m\u001b[0m\u001b[0m\n\u001b[0m",
            "\u001b[0;31mTypeError\u001b[0m: 'tuple' object does not support item assignment"
          ]
        }
      ]
    },
    {
      "cell_type": "code",
      "source": [
        "aluno = {\n",
        "    'nome': 'Carlos',\n",
        "    'idade': 21,\n",
        "    'nota': 7.7\n",
        "}\n",
        "\n",
        "print(aluno)"
      ],
      "metadata": {
        "colab": {
          "base_uri": "https://localhost:8080/"
        },
        "id": "8YYe1DfsmYTk",
        "outputId": "909b238d-1502-41f4-b14f-8e24787ca6c0"
      },
      "execution_count": 20,
      "outputs": [
        {
          "output_type": "stream",
          "name": "stdout",
          "text": [
            "{'nome': 'Carlos', 'idade': 21, 'nota': 7.7}\n"
          ]
        }
      ]
    },
    {
      "cell_type": "code",
      "source": [
        "aluno['nota'] = 9.0\n",
        "aluno['curso'] = 'Ciências da Computação'\n",
        "print(aluno)"
      ],
      "metadata": {
        "colab": {
          "base_uri": "https://localhost:8080/"
        },
        "id": "1hg3iCgUnaNu",
        "outputId": "5bec3b68-497c-4d2e-aa6d-0bf7e8dcfac1"
      },
      "execution_count": 21,
      "outputs": [
        {
          "output_type": "stream",
          "name": "stdout",
          "text": [
            "{'nome': 'Carlos', 'idade': 21, 'nota': 9.0, 'curso': 'Ciências da Computação'}\n"
          ]
        }
      ]
    },
    {
      "cell_type": "code",
      "source": [
        "del aluno['idade']\n",
        "print(aluno)"
      ],
      "metadata": {
        "colab": {
          "base_uri": "https://localhost:8080/"
        },
        "id": "iYUVtMKsoO-r",
        "outputId": "091cbebc-9364-4f35-a811-aaffb0c0fcef"
      },
      "execution_count": 22,
      "outputs": [
        {
          "output_type": "stream",
          "name": "stdout",
          "text": [
            "{'nome': 'Carlos', 'nota': 9.0, 'curso': 'Ciências da Computação'}\n"
          ]
        }
      ]
    },
    {
      "cell_type": "code",
      "source": [
        "def soma(num1, num2):\n",
        "  return num1 + num2\n",
        "num1 = int(input('Digite o primeiro número:'))\n",
        "num2 = int(input('Digite o segundo número:'))\n",
        "print(soma(num1, num2))"
      ],
      "metadata": {
        "colab": {
          "base_uri": "https://localhost:8080/"
        },
        "id": "Ng8rdmbuoWwy",
        "outputId": "f12cb403-eded-4ac7-dc92-a6a761d3e683"
      },
      "execution_count": 24,
      "outputs": [
        {
          "output_type": "stream",
          "name": "stdout",
          "text": [
            "Digite o primeiro número:23\n",
            "Digite o segundo número:21\n",
            "44\n"
          ]
        }
      ]
    },
    {
      "cell_type": "code",
      "source": [
        "import statistics\n",
        "def media(numeros):\n",
        "  return statistics.mean(numeros)\n",
        "print(media([10, 10, 7]))"
      ],
      "metadata": {
        "colab": {
          "base_uri": "https://localhost:8080/"
        },
        "id": "4mJ1bDKmp9Us",
        "outputId": "f09d4696-c957-4b54-e177-62b37732f8c0"
      },
      "execution_count": 28,
      "outputs": [
        {
          "output_type": "stream",
          "name": "stdout",
          "text": [
            "9\n"
          ]
        }
      ]
    },
    {
      "cell_type": "code",
      "source": [
        "numero = 8\n",
        "def eh_par(numero):\n",
        "  if numero % 2 == 0:\n",
        "    return True\n",
        "  else:\n",
        "    return False\n",
        "print(eh_par(numero))"
      ],
      "metadata": {
        "colab": {
          "base_uri": "https://localhost:8080/"
        },
        "id": "oLRUX4P3rnUN",
        "outputId": "d861c683-a2aa-4371-aab5-cff570de5e7c"
      },
      "execution_count": 32,
      "outputs": [
        {
          "output_type": "stream",
          "name": "stdout",
          "text": [
            "True\n"
          ]
        }
      ]
    }
  ],
  "metadata": {
    "colab": {
      "name": "Welcome To Colab",
      "provenance": [],
      "include_colab_link": true
    },
    "kernelspec": {
      "display_name": "Python 3",
      "name": "python3"
    }
  },
  "nbformat": 4,
  "nbformat_minor": 0
}